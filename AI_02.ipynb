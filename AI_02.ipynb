{
 "cells": [
  {
   "cell_type": "code",
   "execution_count": 1,
   "id": "830f87d3-679f-40e4-94c7-e23a69af7e03",
   "metadata": {},
   "outputs": [],
   "source": [
    "#implement a star algorithm for 8 puzzle problem"
   ]
  },
  {
   "cell_type": "code",
   "execution_count": 25,
   "id": "66e77cf4-5802-452c-90cf-326c31c3384e",
   "metadata": {},
   "outputs": [
    {
     "name": "stdout",
     "output_type": "stream",
     "text": [
      "Enter start matrix :\n",
      "\n"
     ]
    },
    {
     "name": "stdin",
     "output_type": "stream",
     "text": [
      " 1 2 3\n",
      " _ 4 6\n",
      " 7 5 8\n"
     ]
    },
    {
     "name": "stdout",
     "output_type": "stream",
     "text": [
      "Enter goal matrix :\n",
      "\n"
     ]
    },
    {
     "name": "stdin",
     "output_type": "stream",
     "text": [
      " 1 2 3\n",
      " 4 5 6\n",
      " 7 8 _\n"
     ]
    },
    {
     "name": "stdout",
     "output_type": "stream",
     "text": [
      "\n",
      "Current state \n",
      "1 2 3\n",
      "_ 4 6\n",
      "7 5 8\n",
      "\n",
      "Current state \n",
      "1 2 3\n",
      "4 _ 6\n",
      "7 5 8\n",
      "\n",
      "Current state \n",
      "1 2 3\n",
      "4 5 6\n",
      "7 _ 8\n",
      "\n",
      "Current state \n",
      "1 2 3\n",
      "4 5 6\n",
      "7 8 _\n",
      "\n",
      " Goal achieved\n"
     ]
    }
   ],
   "source": [
    "import copy\n",
    "def generate_child(state,level):\n",
    "    \n",
    "    def find_blank(state):\n",
    "        for i in range(3):\n",
    "            for j in range(3):\n",
    "                if state[i][j] == \"_\":\n",
    "                    return i,j\n",
    "        return None\n",
    "\n",
    "    blank_pos = find_blank(state)\n",
    "    if blank_pos is None:\n",
    "        return []\n",
    "        \n",
    "    x,y = blank_pos\n",
    "    moves = [(x,y-1),(x,y+1),(x-1,y),(x+1,y)]\n",
    "    children = []\n",
    "    for move in moves:\n",
    "        child = do_move(state,x,y,move[0],move[1])\n",
    "        if child is not None:\n",
    "            children.append((child,level+1))\n",
    "    return children\n",
    "\n",
    "def do_move(state,x1,y1,x2,y2):\n",
    "    if 0 <= x2 < 3 and 0 <= y2 < 3:\n",
    "        new_state = copy.deepcopy(state)\n",
    "        new_state[x1][y1],new_state[x2][y2] = new_state[x2][y2],new_state[x1][y1]\n",
    "         \n",
    "        return new_state\n",
    "    else:\n",
    "        return None\n",
    "\n",
    "def heuristic(current_state,goal_state):\n",
    "    heu_val = 0\n",
    "    for i in range(3):\n",
    "        for j in range(3):\n",
    "            if current_state[i][j] != \"_\":\n",
    "                if current_state[i][j] != goal_state[i][j]:\n",
    "                    heu_val += 1\n",
    "    return heu_val\n",
    "\n",
    "def puzzle_solve():\n",
    "    def accept_matrix():\n",
    "        matrix = []\n",
    "        for _ in range(3):\n",
    "            row = input().split()\n",
    "            matrix.append(row)\n",
    "        return matrix\n",
    "    \n",
    "    print(\"Enter start matrix :\\n\")\n",
    "    start_state = accept_matrix()\n",
    "    print(\"Enter goal matrix :\\n\")\n",
    "    goal_state = accept_matrix()\n",
    "\n",
    "    #initialize open list\n",
    "    open_list = [(start_state,0)]\n",
    "    while open_list:\n",
    "        current_state,level = open_list.pop(0)\n",
    "        print(\"\\nCurrent state \")\n",
    "        for i in current_state:\n",
    "            print(\" \".join(i))\n",
    "        if heuristic(current_state,goal_state) == 0:\n",
    "            print(\"\\n Goal achieved\")\n",
    "            return\n",
    "\n",
    "        for child_state,child_level in generate_child(current_state,level):\n",
    "            open_list.append((child_state,child_level))\n",
    "        open_list.sort(key = lambda x: heuristic(x[0],goal_state) + x[1])\n",
    "\n",
    "puzzle_solve()"
   ]
  },
  {
   "cell_type": "code",
   "execution_count": null,
   "id": "5d3df62d-433e-4f28-b45e-49b04de9d61a",
   "metadata": {},
   "outputs": [],
   "source": []
  }
 ],
 "metadata": {
  "kernelspec": {
   "display_name": "Python 3 (ipykernel)",
   "language": "python",
   "name": "python3"
  },
  "language_info": {
   "codemirror_mode": {
    "name": "ipython",
    "version": 3
   },
   "file_extension": ".py",
   "mimetype": "text/x-python",
   "name": "python",
   "nbconvert_exporter": "python",
   "pygments_lexer": "ipython3",
   "version": "3.10.11"
  }
 },
 "nbformat": 4,
 "nbformat_minor": 5
}
