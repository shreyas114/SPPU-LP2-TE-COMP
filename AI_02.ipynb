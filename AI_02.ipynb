{
 "cells": [
  {
   "cell_type": "code",
   "execution_count": 1,
   "id": "66e77cf4-5802-452c-90cf-326c31c3384e",
   "metadata": {},
   "outputs": [
    {
     "name": "stdout",
     "output_type": "stream",
     "text": [
      "Enter the start state:(Enter -1 for empty):\n"
     ]
    },
    {
     "name": "stdin",
     "output_type": "stream",
     "text": [
      " 1\n",
      " 2\n",
      " 3\n",
      " -1\n",
      " 4\n",
      " 6\n",
      " 7\n",
      " 5\n",
      " 8\n"
     ]
    },
    {
     "name": "stdout",
     "output_type": "stream",
     "text": [
      "Enter the goal state:(Enter -1 for empty):\n"
     ]
    },
    {
     "name": "stdin",
     "output_type": "stream",
     "text": [
      " 1\n",
      " 2\n",
      " 3\n",
      " 4\n",
      " 5\n",
      " 6\n",
      " 7\n",
      " 8\n",
      " -1\n"
     ]
    },
    {
     "name": "stdout",
     "output_type": "stream",
     "text": [
      "Start state\n",
      "\n",
      "1 2 3 \n",
      "_ 4 6 \n",
      "7 5 8 \n",
      "\n",
      "1 2 3 \n",
      "4 _ 6 \n",
      "7 5 8 \n",
      "\n",
      "1 2 3 \n",
      "4 5 6 \n",
      "7 _ 8 \n",
      "\n",
      "1 2 3 \n",
      "4 5 6 \n",
      "7 8 _ \n",
      "\n",
      "Solved in 3 moves\n"
     ]
    }
   ],
   "source": [
    "#implement a star algorithm for 8 puzzle problem\n",
    "global g\n",
    "g=0\n",
    "def print_board(elements):\n",
    "    for i in range(9):\n",
    "        if i%3 == 0:\n",
    "            print()\n",
    "        if elements[i]==-1:\n",
    "            print(\"_\", end = \" \")\n",
    "        else:\n",
    "            print(elements[i], end = \" \")\n",
    "    print()\n",
    "\n",
    "def heuristic(start,goal):\n",
    "    global g\n",
    "    h = 0\n",
    "    for i in range(9):\n",
    "        for j in range(9):\n",
    "            if start[i] == goal[j] and start[i] != -1:\n",
    "                h += (abs(j-i))//3 + (abs(j-i))%3\n",
    "    return h + g\n",
    "\n",
    "def moveleft(start,position):\n",
    "    start[position],start[position-1]= start[position-1],start[position]\n",
    "\n",
    "def moveright(start,position):\n",
    "    start[position],start[position+1]= start[position+1],start[position]\n",
    "\n",
    "def moveup(start,position):\n",
    "    start[position],start[position-3]= start[position-3],start[position]\n",
    "\n",
    "def movedown(start,position):\n",
    "    start[position],start[position+3]= start[position+3],start[position]\n",
    "\n",
    "def movetile(start,goal):\n",
    "    emptyat = start.index(-1) \n",
    "    row = emptyat//3\n",
    "    col = emptyat%3\n",
    "\n",
    "    t1,t2,t3,t4 = start[:],start[:],start[:],start[:]\n",
    "    f1,f2,f3,f4 = 100,100,100,100\n",
    "\n",
    "    if col-1 >= 0:\n",
    "        moveleft(t1, emptyat)\n",
    "        f1 = heuristic(t1, goal)\n",
    "    if col+1 < 3:\n",
    "        moveright(t2, emptyat)\n",
    "        f2 = heuristic(t2, goal)\n",
    "    if row + 1 < 3:\n",
    "        movedown(t3, emptyat)\n",
    "        f3 = heuristic(t3, goal)\n",
    "    if row-1 >= 0 :\n",
    "        moveup(t4, emptyat)\n",
    "        f4 = heuristic(t4, goal)\n",
    "  \n",
    "    min_heuristic = min(f1, f2, f3, f4)\n",
    "\n",
    "    if f1==min_heuristic:\n",
    "        moveleft(start, emptyat)\n",
    "    elif f2==min_heuristic:\n",
    "        moveright(start, emptyat)\n",
    "    elif f3==min_heuristic:\n",
    "        movedown(start, emptyat)\n",
    "    elif f4 == min_heuristic:\n",
    "        moveup(start, emptyat)\n",
    "        \n",
    "def solveEight(start,goal):\n",
    "    global g\n",
    "    g+=1\n",
    "    movetile(start,goal)\n",
    "    print_board(start)\n",
    "    f = heuristic(start,goal)\n",
    "\n",
    "    if f == g:\n",
    "        print(f\"\\nSolved in {f} moves\")\n",
    "        return\n",
    "    solveEight(start,goal)\n",
    "\n",
    "start = list()\n",
    "goal = list()\n",
    "print(\"Enter the start state:(Enter -1 for empty):\")\n",
    "for i in range(9):\n",
    "    start.append(int(input()))\n",
    "print(\"Enter the goal state:(Enter -1 for empty):\")\n",
    "for i in range(9):\n",
    "    goal.append(int(input()))\n",
    "\n",
    "print('Start state')\n",
    "print_board(start)\n",
    "\n",
    "solveEight(start,goal)"
   ]
  },
  {
   "cell_type": "code",
   "execution_count": null,
   "id": "4147284c-6016-4217-b372-4e48d770458e",
   "metadata": {},
   "outputs": [],
   "source": []
  }
 ],
 "metadata": {
  "kernelspec": {
   "display_name": "Python 3 (ipykernel)",
   "language": "python",
   "name": "python3"
  },
  "language_info": {
   "codemirror_mode": {
    "name": "ipython",
    "version": 3
   },
   "file_extension": ".py",
   "mimetype": "text/x-python",
   "name": "python",
   "nbconvert_exporter": "python",
   "pygments_lexer": "ipython3",
   "version": "3.10.11"
  }
 },
 "nbformat": 4,
 "nbformat_minor": 5
}
