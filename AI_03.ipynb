{
 "cells": [
  {
   "cell_type": "code",
   "execution_count": 12,
   "id": "fc1126d0-d5a3-4604-be5b-81fcb8058ecc",
   "metadata": {},
   "outputs": [],
   "source": [
    "# Implement Greedy search algorithm for any of the following application:\n",
    "# 1 Selection Sort\n",
    "# 2 Job Scheduling Problem\n",
    "# 3 Prim's Minimal Spanning Tree Algorithm\n",
    "# 4 Kruskal's Minimal Spanning Tree Algorithm\n",
    "# 5 Dijkstra's Minimal Spanning Tree Algorithm\n"
   ]
  },
  {
   "cell_type": "code",
   "execution_count": 13,
   "id": "b8ac8aea-5ea1-4448-a01b-5a7b46c2aae5",
   "metadata": {},
   "outputs": [
    {
     "name": "stdout",
     "output_type": "stream",
     "text": [
      "[1, 2, 4, 9, 12, 13, 16, 19, 45]\n"
     ]
    }
   ],
   "source": [
    "#Selection Sort\n",
    "array1 = [16,19,12,45,13,1,2,4,9]\n",
    "for i in  range(len(array1)):\n",
    "    min_idx = i\n",
    "    for j in range(i+1,len(array1)):\n",
    "        if array1[min_idx]>array1[j]:\n",
    "            min_idx = j\n",
    "    array1[i],array1[min_idx] = array1[min_idx],array1[i]\n",
    "print(array)"
   ]
  },
  {
   "cell_type": "code",
   "execution_count": 13,
   "id": "894d4386-dcca-4b9d-bbf7-3a193502f30a",
   "metadata": {},
   "outputs": [
    {
     "name": "stdout",
     "output_type": "stream",
     "text": [
      "Jobs sequence :  [27, 100, 15]\n",
      "Total profit :  142\n"
     ]
    }
   ],
   "source": [
    "# Job Scheduling\n",
    "#(deadline,profit)\n",
    "jobs = [(2,100),(1,19),(2,27),(3,15)]\n",
    "\n",
    "jobs.sort(key = lambda x: x[1] , reverse = True)\n",
    "\n",
    "max_deadline = max(job[0] for job in jobs)\n",
    "\n",
    "result = [-1]*max_deadline\n",
    "\n",
    "for job in jobs:\n",
    "    deadline,profit = job\n",
    "    for i in range(deadline-1,-1,-1):\n",
    "        if result[i] == -1:\n",
    "            result[i] = profit\n",
    "            break\n",
    "total_profit = sum(result)\n",
    "print(\"Jobs sequence : \",result)\n",
    "print(\"Total profit : \",total_profit)"
   ]
  },
  {
   "cell_type": "code",
   "execution_count": 8,
   "id": "d447c603-bf55-49ff-9615-f7c35c46ed1b",
   "metadata": {},
   "outputs": [
    {
     "name": "stdout",
     "output_type": "stream",
     "text": [
      " Edge \tWeight\n",
      "0 1 \t 2\n",
      "1 2 \t 3\n",
      "0 3 \t 6\n",
      "1 4 \t 5\n"
     ]
    }
   ],
   "source": [
    "#prims minimal spanning tree\n",
    "import sys\n",
    "def minKey(key,mstSet):\n",
    "    min_val = sys.maxsize\n",
    "    for v in range(S):\n",
    "        if key[v] < min_val and not mstSet[v]:\n",
    "            min_val = key[v]\n",
    "            min_index = v\n",
    "    return min_index\n",
    "   \n",
    "def primMST(graph):\n",
    "    # create 3 lists\n",
    "    key = [sys.maxsize]*S\n",
    "    mstSet = [False]*S\n",
    "    parent = [None]*S\n",
    "\n",
    "    key[0] = 0\n",
    "    parent[0] = -1\n",
    "\n",
    "    for _ in range(S):\n",
    "        u = minKey(key,mstSet)\n",
    "        mstSet[u] = True\n",
    "        for v in range(S):\n",
    "            if graph[u][v] >0 and not mstSet[v] and key[v] > graph[u][v]:\n",
    "                key[v] = graph[u][v]\n",
    "                parent[v] = u\n",
    "\n",
    "    print(\" Edge \\tWeight\")\n",
    "    for i in range(1,S):\n",
    "        print(parent[i],i,\"\\t\" ,graph[i][parent[i]])        \n",
    "\n",
    "graph = [\n",
    "    [0,2,0,6,0],\n",
    "    [2,0,3,8,5],\n",
    "    [0,3,0,0,7],\n",
    "    [6,8,0,0,9],\n",
    "    [0,5,7,9,0]\n",
    "]\n",
    "S = len(graph)\n",
    "primMST(graph)"
   ]
  },
  {
   "cell_type": "code",
   "execution_count": 22,
   "id": "a803e15e-ca1e-4d07-a726-9570f4bb2c6a",
   "metadata": {},
   "outputs": [
    {
     "name": "stdin",
     "output_type": "stream",
     "text": [
      "Enter no of edges :  14\n",
      "Enter edge : source destination weight  0 1 4\n",
      "Enter edge : source destination weight  0 7 8\n",
      "Enter edge : source destination weight  1 2 8\n",
      "Enter edge : source destination weight  1 7 11\n",
      "Enter edge : source destination weight  7 6 1\n",
      "Enter edge : source destination weight  7 8 7\n",
      "Enter edge : source destination weight  2 8 2\n",
      "Enter edge : source destination weight  8 6 6\n",
      "Enter edge : source destination weight  2 5 4\n",
      "Enter edge : source destination weight  6 5 2\n",
      "Enter edge : source destination weight  2 3 7\n",
      "Enter edge : source destination weight  3 5 14\n",
      "Enter edge : source destination weight  3 4 9\n",
      "Enter edge : source destination weight  5 4 10\n"
     ]
    },
    {
     "name": "stdout",
     "output_type": "stream",
     "text": [
      "[('6', '7', 1), ('2', '8', 2), ('5', '6', 2), ('0', '1', 4), ('2', '5', 4), ('2', '3', 7), ('0', '7', 8), ('3', '4', 9)]\n",
      "total weight is 37\n"
     ]
    }
   ],
   "source": [
    "# Kruskals minimal spanning tree\n",
    "\n",
    "def find(parent,vertex):\n",
    "    if parent[vertex] != vertex:\n",
    "        parent[vertex] = find(parent,parent[vertex])\n",
    "    return parent[vertex]\n",
    "\n",
    "def union(parent , rank , v1 , v2):\n",
    "    root1 = find(parent,v1)\n",
    "    root2 = find(parent,v2)\n",
    "    if root1!=root2:\n",
    "        if rank[root1] > rank[root2]:\n",
    "            parent[root2] = root1\n",
    "        else:\n",
    "            parent[root1] = root2\n",
    "            if rank[root1] == rank[root2]:\n",
    "                rank[root2] += 1\n",
    "\n",
    "def make_set(parent,rank,vertex):\n",
    "    parent[vertex] = vertex\n",
    "    rank[vertex] = 0\n",
    "\n",
    "def kruskal(graph):\n",
    "    parent = {}\n",
    "    rank = {}\n",
    "    mst = []\n",
    "    edges = []\n",
    "    global t_weight\n",
    "    t_weight = 0\n",
    "    for u in graph:\n",
    "        for v,weight in graph[u].items():\n",
    "            edges.append((weight,u,v))\n",
    "    edges.sort()\n",
    "\n",
    "    for vertex in graph:\n",
    "        make_set(parent,rank,vertex)\n",
    "    for weight,u,v in edges:\n",
    "        if find(parent,u) != find (parent,v):\n",
    "            union(parent,rank,u,v)\n",
    "            mst.append((u,v,weight))\n",
    "            t_weight += weight\n",
    "    return mst\n",
    "\n",
    "def take_input():\n",
    "    graph = {}\n",
    "    for _ in range(int(input(\"Enter no of edges : \"))):\n",
    "        u,v,w = input(\"Enter edge : source destination weight \").split()\n",
    "        w = int(w)\n",
    "        if u not in graph:\n",
    "            graph[u] = {}\n",
    "        graph[u][v] = w\n",
    "        if v not in graph:\n",
    "            graph[v] = {}\n",
    "        graph[v][u] = w\n",
    "    return graph\n",
    "\n",
    "graph = take_input()\n",
    "mst = kruskal(graph)\n",
    "print(mst)\n",
    "print(f\"total weight is {t_weight}\")"
   ]
  },
  {
   "cell_type": "code",
   "execution_count": 31,
   "id": "17435e73-7aa5-43c5-9cf8-bd36bdda414d",
   "metadata": {},
   "outputs": [
    {
     "name": "stdout",
     "output_type": "stream",
     "text": [
      "{'A': 0, 'B': 7, 'C': 9, 'D': 20, 'E': 20, 'F': 11}\n"
     ]
    }
   ],
   "source": [
    "# 5 Dijkstra's Minimal Spanning Tree Algorithm\n",
    "import heapq\n",
    "\n",
    "def dij(graph,src):\n",
    "\n",
    "    distances = {node : float('inf') for node in graph}\n",
    "    distances[src] = 0\n",
    "    \n",
    "    unv_node = list(graph.keys())\n",
    "    while unv_node:\n",
    "        curr_node = min(unv_node,key = lambda node:distances[node])\n",
    "        unv_node.remove(curr_node)\n",
    "        for v,weight in graph[curr_node].items():\n",
    "            distance = distances[curr_node]+weight\n",
    "            if distance<distances[v]:\n",
    "                distances[v] = distance\n",
    "    return distances\n",
    "        \n",
    "graph = {\n",
    "\n",
    "    'A' : {'B':7,'C':9,'F':14},\n",
    "    'B' : {'A':7,'C':10,'D':15},\n",
    "    'C' : {'A':9,'B':10,'D':11,'F':2},\n",
    "    'D' : {'B':15,'C':11,'E':6},\n",
    "    'E' : {'D':6,'F':9},\n",
    "    'F' : {'A':14,'C':2,'E':9},\n",
    "}\n",
    "mst = dij(graph,'A')\n",
    "print(mst)"
   ]
  }
 ],
 "metadata": {
  "kernelspec": {
   "display_name": "Python 3 (ipykernel)",
   "language": "python",
   "name": "python3"
  },
  "language_info": {
   "codemirror_mode": {
    "name": "ipython",
    "version": 3
   },
   "file_extension": ".py",
   "mimetype": "text/x-python",
   "name": "python",
   "nbconvert_exporter": "python",
   "pygments_lexer": "ipython3",
   "version": "3.10.11"
  }
 },
 "nbformat": 4,
 "nbformat_minor": 5
}
