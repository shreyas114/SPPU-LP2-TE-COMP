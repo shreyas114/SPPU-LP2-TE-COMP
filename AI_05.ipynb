{
 "cells": [
  {
   "cell_type": "code",
   "execution_count": 6,
   "id": "61d272a0-aed4-4244-9615-7f5bef805f8b",
   "metadata": {},
   "outputs": [
    {
     "name": "stdout",
     "output_type": "stream",
     "text": [
      "BOT : Hi\n"
     ]
    },
    {
     "name": "stdin",
     "output_type": "stream",
     "text": [
      "BOT : name ? :  Shreyas\n"
     ]
    },
    {
     "name": "stdout",
     "output_type": "stream",
     "text": [
      "BOT : Ask me something ?\n"
     ]
    },
    {
     "name": "stdin",
     "output_type": "stream",
     "text": [
      "Shreyas :  order track\n"
     ]
    },
    {
     "name": "stdout",
     "output_type": "stream",
     "text": [
      "On the way\n"
     ]
    },
    {
     "name": "stdin",
     "output_type": "stream",
     "text": [
      "Shreyas :  give feedback\n"
     ]
    },
    {
     "name": "stdout",
     "output_type": "stream",
     "text": [
      "Sure\n"
     ]
    },
    {
     "name": "stdin",
     "output_type": "stream",
     "text": [
      "Shreyas :  contact human agent\n"
     ]
    },
    {
     "name": "stdout",
     "output_type": "stream",
     "text": [
      "Sorry i dont know that\n"
     ]
    },
    {
     "name": "stdin",
     "output_type": "stream",
     "text": [
      "Shreyas :  exit\n"
     ]
    },
    {
     "name": "stdout",
     "output_type": "stream",
     "text": [
      "BOT : Thank you ! have a great day\n"
     ]
    }
   ],
   "source": [
    "#Develop an elementary chatbot for any suitable customer interaction application.\n",
    "# Just an outline for the assignment\n",
    "import random\n",
    "\n",
    "def ask_name():\n",
    "    return input(\"BOT : name ? : \")\n",
    "\n",
    "def greet():\n",
    "    greetings = [\"Hi\",\"Yo\"]\n",
    "    print(f\"BOT : {random.choice(greetings)}\")\n",
    "\n",
    "def generate_response(user_input):\n",
    "    responses = {\n",
    "        \"order track\" : \"On the way\",\n",
    "        \"give feedback\" : \"Sure\",\n",
    "\n",
    "    }\n",
    "    response = responses.get(user_input.lower(),\"Sorry i dont know that\")\n",
    "    return response\n",
    "def main():\n",
    "    greet()\n",
    "    name = ask_name()\n",
    "    print(\"BOT : Ask me something ?\")\n",
    "    \n",
    "    while True:\n",
    "        user_input = input(f\"{name} : \")   \n",
    "        if user_input.lower() == \"exit\":\n",
    "            print(\"BOT : Thank you ! have a great day\")\n",
    "            break\n",
    "        else : \n",
    "            response = generate_response(user_input)\n",
    "            print(response)\n",
    "\n",
    "main()\n",
    "\n",
    "\n"
   ]
  }
 ],
 "metadata": {
  "kernelspec": {
   "display_name": "Python 3 (ipykernel)",
   "language": "python",
   "name": "python3"
  },
  "language_info": {
   "codemirror_mode": {
    "name": "ipython",
    "version": 3
   },
   "file_extension": ".py",
   "mimetype": "text/x-python",
   "name": "python",
   "nbconvert_exporter": "python",
   "pygments_lexer": "ipython3",
   "version": "3.10.11"
  }
 },
 "nbformat": 4,
 "nbformat_minor": 5
}
