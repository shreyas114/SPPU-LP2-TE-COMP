{
 "cells": [
  {
   "cell_type": "code",
   "execution_count": 2,
   "id": "3ddfe58c-7e2e-436a-a36a-ffe5f61dcf2d",
   "metadata": {},
   "outputs": [],
   "source": [
    "# Implement depth first search algorithm and Breadth First Search algorithm, Use an undirected\n",
    "# graph and develop a recursive algorithm for searching all the vertices of a graph or tree data\n",
    "# structure. "
   ]
  },
  {
   "cell_type": "code",
   "execution_count": 25,
   "id": "2ec6e6d7-b1e6-4635-a7d9-63bb87c58016",
   "metadata": {},
   "outputs": [
    {
     "name": "stdout",
     "output_type": "stream",
     "text": [
      "BFS\n",
      "\n",
      "A\n",
      "B\n",
      "C\n",
      "D\n",
      "E\n",
      "F\n",
      "G\n",
      "H\n",
      "I\n",
      " \n",
      "DFS\n",
      "\n",
      "A\n",
      "B\n",
      "D\n",
      "H\n",
      "I\n",
      "E\n",
      "C\n",
      "F\n",
      "G\n"
     ]
    }
   ],
   "source": [
    "# BFS \n",
    "\n",
    "# Undirected graph\n",
    "\n",
    "graph = {\n",
    "    'A' : ['B','C'],\n",
    "    'B' : ['D','E'],\n",
    "    'C' : ['F','G'],\n",
    "    'D' : ['H','I'],\n",
    "    'E' : [],\n",
    "    'H' : [],\n",
    "    'I' : [],\n",
    "    'F' : [],\n",
    "    'G' : []\n",
    " }\n",
    "\n",
    "visited = []\n",
    "queue = []\n",
    "\n",
    "def breadth_first_search(vis , graph, root):\n",
    "    vis.append(root)\n",
    "    queue.append(root)\n",
    "\n",
    "    while queue:\n",
    "        vertex = queue.pop(0)\n",
    "        print(vertex)\n",
    "        for i in graph[vertex]:\n",
    "            if i not in vis:\n",
    "                vis.append(i)\n",
    "                queue.append(i)\n",
    "print('BFS\\n')\n",
    "breadth_first_search(visited,graph,'A')\n",
    "print(\" \")\n",
    "\n",
    "#dfs\n",
    "visited = []\n",
    "def depth_first_search(vis,graph,root):\n",
    "    if root not in visited:\n",
    "        print(root)\n",
    "        visited.append(root)\n",
    "        for i in graph[root]:\n",
    "            depth_first_search(visited,graph,i)\n",
    "print(\"DFS\\n\")\n",
    "depth_first_search(visited,graph,'A')\n",
    "\n"
   ]
  }
 ],
 "metadata": {
  "kernelspec": {
   "display_name": "Python 3 (ipykernel)",
   "language": "python",
   "name": "python3"
  },
  "language_info": {
   "codemirror_mode": {
    "name": "ipython",
    "version": 3
   },
   "file_extension": ".py",
   "mimetype": "text/x-python",
   "name": "python",
   "nbconvert_exporter": "python",
   "pygments_lexer": "ipython3",
   "version": "3.10.11"
  }
 },
 "nbformat": 4,
 "nbformat_minor": 5
}
