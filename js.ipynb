{
 "cells": [
  {
   "cell_type": "code",
   "execution_count": null,
   "id": "6d7a368d-ebe2-4624-a3fc-fe56afec2708",
   "metadata": {},
   "outputs": [],
   "source": [
    "def max_deadline(jobs):\n",
    "    max_deadline = 0\n",
    "    for job in jobs:\n",
    "        max_deadline = max(max_deadline,job[1])\n",
    "    return max_deadline\n",
    "    \n",
    "\n",
    "def schedule_jobs(jobs,scheduled):\n",
    "    jobs.sort(key=lambda x:x[2],reverse = True)\n",
    "    for job in jobs:\n",
    "        for j in range(job[1]-1,-1,-1):\n",
    "            if scheduled[j] == None:\n",
    "                scheduled[j] = job\n",
    "                break\n",
    "        \n",
    "\n",
    "def max_profit(sch):\n",
    "    max_p = 0\n",
    "    for job in sch:\n",
    "        if job is not None:\n",
    "            max_p += job[2]\n",
    "    return max_p\n",
    "    \n",
    "def main():\n",
    "    jobs = [(1,2,100),(2,1,19),(3,2,27),(4,3,15)]\n",
    "\n",
    "    max_dead = max_deadline(jobs)\n",
    "    scheduled = [None]*max_dead\n",
    "    schedule_jobs(jobs,scheduled)\n",
    "    max_prof = max_profit(scheduled)\n",
    "    for i in scheduled:\n",
    "        if i is not None:\n",
    "            print(i)\n",
    "\n",
    "\n",
    "    print(max_dead)\n",
    "    print(max_prof)\n",
    "main()"
   ]
  }
 ],
 "metadata": {
  "kernelspec": {
   "display_name": "Python 3 (ipykernel)",
   "language": "python",
   "name": "python3"
  },
  "language_info": {
   "codemirror_mode": {
    "name": "ipython",
    "version": 3
   },
   "file_extension": ".py",
   "mimetype": "text/x-python",
   "name": "python",
   "nbconvert_exporter": "python",
   "pygments_lexer": "ipython3",
   "version": "3.10.11"
  }
 },
 "nbformat": 4,
 "nbformat_minor": 5
}
