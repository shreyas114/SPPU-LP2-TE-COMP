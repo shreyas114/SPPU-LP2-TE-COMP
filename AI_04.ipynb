{
 "cells": [
  {
   "cell_type": "code",
   "execution_count": 1,
   "id": "a9e2c73b-aa46-4099-8153-2749f92e7713",
   "metadata": {},
   "outputs": [],
   "source": [
    "#4. Implement a solution for a Constraint Satisfaction Problem using Branch and Bound for a graph coloring problem"
   ]
  },
  {
   "cell_type": "code",
   "execution_count": 12,
   "id": "e7f44312-7086-4636-aeb2-7ca691471086",
   "metadata": {},
   "outputs": [
    {
     "name": "stdin",
     "output_type": "stream",
     "text": [
      "Enter no of vertices :  5\n"
     ]
    },
    {
     "name": "stdout",
     "output_type": "stream",
     "text": [
      "Enter adjacency matrix : \n"
     ]
    },
    {
     "name": "stdin",
     "output_type": "stream",
     "text": [
      " 0 1 0 0 1\n",
      " 1 0 1 1 0\n",
      " 0 1 0 1 1\n",
      " 0 1 1 0 0\n",
      " 1 0 1 0 0\n"
     ]
    },
    {
     "name": "stdout",
     "output_type": "stream",
     "text": [
      "Backtracking\n"
     ]
    },
    {
     "name": "stdin",
     "output_type": "stream",
     "text": [
      "Enter colours separated by space :  red blue black\n"
     ]
    },
    {
     "name": "stdout",
     "output_type": "stream",
     "text": [
      "vertex :  0  color :  red\n",
      "vertex :  1  color :  blue\n",
      "vertex :  2  color :  red\n",
      "vertex :  3  color :  black\n",
      "vertex :  4  color :  blue\n",
      "Branch and Bound\n"
     ]
    },
    {
     "name": "stdin",
     "output_type": "stream",
     "text": [
      "Enter colours separated by space :  blue green yellow black\n"
     ]
    },
    {
     "name": "stdout",
     "output_type": "stream",
     "text": [
      "Vertex :  0  color :  black\n",
      "Vertex :  1  color :  blue\n",
      "Vertex :  2  color :  black\n",
      "Vertex :  3  color :  green\n",
      "Vertex :  4  color :  blue\n"
     ]
    }
   ],
   "source": [
    "import heapq\n",
    "\n",
    "def is_safe(graph,color,v,c):\n",
    "    for i in range(len(graph)):\n",
    "        if graph[v][i] == 1 and color[i] == c:\n",
    "            return False\n",
    "    return True\n",
    "\n",
    "def g_c_backt(graph,color_set):\n",
    "    color = [None]*len(graph)\n",
    "    g_c_util_backt(graph,color_set,color,0)\n",
    "    for i,c in enumerate(color):\n",
    "        print(\"vertex : \",i,\" color : \",c)\n",
    "\n",
    "def g_c_util_backt(graph,color_set,color,v):\n",
    "    if v == len(graph):\n",
    "        return True\n",
    "    for c in color_set:\n",
    "        if is_safe(graph,color,v,c):\n",
    "            color[v] = c\n",
    "            if g_c_util_backt(graph,color_set,color,v+1):\n",
    "                return True\n",
    "            color[v] = None\n",
    "\n",
    "def g_c_bnb(graph,color_set):\n",
    "    def bound(v):\n",
    "        max_used_color = max(color[:v]) if v>0 else 0\n",
    "        return max_used_color\n",
    "    def g_c():\n",
    "        pq = [(0,[-1]*len(graph))]\n",
    "        while pq:\n",
    "            used_colors,coloring = heapq.heappop(pq)\n",
    "            v = coloring.index(-1) if -1 in coloring else len(graph)\n",
    "            if v == len(graph):\n",
    "                return coloring\n",
    "            for c in color_set:\n",
    "                if is_safe(graph,coloring,v,c):\n",
    "                    new_coloring = list(coloring)\n",
    "                    new_coloring[v] = c\n",
    "                    heapq.heappush(pq,(used_colors+1,new_coloring))\n",
    "    coloring = g_c()\n",
    "    for i,c in enumerate(coloring):\n",
    "        print(\"Vertex : \",i, \" color : \",c )\n",
    "\n",
    "def main():\n",
    "    vertices = int(input(\"Enter no of vertices : \"))\n",
    "    graph = []\n",
    "    print(\"Enter adjacency matrix : \")\n",
    "    for _ in range(vertices):\n",
    "        row = [int(x) for x in input().split()]\n",
    "        graph.append(row)\n",
    "\n",
    "    print(\"Backtracking\")\n",
    "    color_set = input(\"Enter colours separated by space : \").split()\n",
    "    g_c_backt(graph,color_set)\n",
    "    print(\"Branch and Bound\")\n",
    "    color_set = input(\"Enter colours separated by space : \").split()\n",
    "    g_c_bnb(graph,color_set)\n",
    "\n",
    "main()"
   ]
  }
 ],
 "metadata": {
  "kernelspec": {
   "display_name": "Python 3 (ipykernel)",
   "language": "python",
   "name": "python3"
  },
  "language_info": {
   "codemirror_mode": {
    "name": "ipython",
    "version": 3
   },
   "file_extension": ".py",
   "mimetype": "text/x-python",
   "name": "python",
   "nbconvert_exporter": "python",
   "pygments_lexer": "ipython3",
   "version": "3.10.11"
  }
 },
 "nbformat": 4,
 "nbformat_minor": 5
}
